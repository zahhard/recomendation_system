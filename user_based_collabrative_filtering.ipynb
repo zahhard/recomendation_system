{
  "nbformat": 4,
  "nbformat_minor": 0,
  "metadata": {
    "colab": {
      "private_outputs": true,
      "provenance": [],
      "gpuType": "T4",
      "authorship_tag": "ABX9TyPTfMYDZFduBG9yFrKvoRM3",
      "include_colab_link": true
    },
    "kernelspec": {
      "name": "python3",
      "display_name": "Python 3"
    },
    "language_info": {
      "name": "python"
    },
    "accelerator": "GPU"
  },
  "cells": [
    {
      "cell_type": "markdown",
      "metadata": {
        "id": "view-in-github",
        "colab_type": "text"
      },
      "source": [
        "<a href=\"https://colab.research.google.com/github/zahhard/recomendation_system/blob/main/user_based_collabrative_filtering.ipynb\" target=\"_parent\"><img src=\"https://colab.research.google.com/assets/colab-badge.svg\" alt=\"Open In Colab\"/></a>"
      ]
    },
    {
      "cell_type": "code",
      "execution_count": null,
      "metadata": {
        "id": "6lmCx0ZyPwTb"
      },
      "outputs": [],
      "source": [
        "# Data processing\n",
        "import pandas as pd\n",
        "import numpy as np\n",
        "import scipy.stats\n",
        "\n",
        "# Visualization\n",
        "import seaborn as sns\n",
        "\n",
        "# Similarity\n",
        "from sklearn.metrics.pairwise import cosine_similarity"
      ]
    },
    {
      "cell_type": "code",
      "source": [
        "! wget https://files.grouplens.org/datasets/movielens/ml-latest-small.zip\n",
        "! unzip ml-latest-small.zip\n",
        "! mv ml-latest-small/* ."
      ],
      "metadata": {
        "id": "1_ZDJ9c6PxDI"
      },
      "execution_count": null,
      "outputs": []
    },
    {
      "cell_type": "code",
      "source": [
        "# Read in data\n",
        "ratings=pd.read_csv('ratings.csv')\n",
        "\n",
        "# Take a look at the data\n",
        "ratings.head()"
      ],
      "metadata": {
        "id": "yeCZ6siUP0rz"
      },
      "execution_count": null,
      "outputs": []
    },
    {
      "cell_type": "code",
      "source": [
        "# Get the dataset information\n",
        "ratings.info()"
      ],
      "metadata": {
        "id": "8nUFhUVYP8Pz"
      },
      "execution_count": null,
      "outputs": []
    },
    {
      "cell_type": "code",
      "source": [
        "# Number of users\n",
        "print('The ratings dataset has', ratings['userId'].nunique(), 'unique users')\n",
        "\n",
        "# Number of movies\n",
        "print('The ratings dataset has', ratings['movieId'].nunique(), 'unique movies')\n",
        "\n",
        "# Number of ratings\n",
        "print('The ratings dataset has', ratings['rating'].nunique(), 'unique ratings')\n",
        "\n",
        "# List of unique ratings\n",
        "print('The unique ratings are', sorted(ratings['rating'].unique()))"
      ],
      "metadata": {
        "id": "95DLyevfP_Rn"
      },
      "execution_count": null,
      "outputs": []
    },
    {
      "cell_type": "code",
      "source": [
        "# Read in data\n",
        "movies = pd.read_csv('movies.csv')\n",
        "\n",
        "# Take a look at the data\n",
        "movies.head()"
      ],
      "metadata": {
        "id": "MdNyL8W6QHq7"
      },
      "execution_count": null,
      "outputs": []
    },
    {
      "cell_type": "code",
      "source": [
        "# Merge ratings and movies datasets\n",
        "df = pd.merge(ratings, movies, on='movieId', how='inner')\n",
        "\n",
        "# Take a look at the data\n",
        "df.head()"
      ],
      "metadata": {
        "id": "aXr8uJY_QKq6"
      },
      "execution_count": null,
      "outputs": []
    },
    {
      "cell_type": "code",
      "source": [
        "# Aggregate by movie\n",
        "agg_ratings = df.groupby('title').agg(mean_rating = ('rating', 'mean'),\n",
        "                                                number_of_ratings = ('rating', 'count')).reset_index()\n",
        "\n",
        "# Keep the movies with over 100 ratings\n",
        "agg_ratings_GT100 = agg_ratings[agg_ratings['number_of_ratings']>100]\n",
        "agg_ratings_GT100.info()"
      ],
      "metadata": {
        "id": "OiuVRohBQMN_"
      },
      "execution_count": null,
      "outputs": []
    },
    {
      "cell_type": "code",
      "source": [
        "# Check popular movies\n",
        "agg_ratings_GT100.sort_values(by='number_of_ratings', ascending=False).head()"
      ],
      "metadata": {
        "id": "6icQfCtGQN7m"
      },
      "execution_count": null,
      "outputs": []
    },
    {
      "cell_type": "code",
      "source": [
        "# Visulization\n",
        "sns.jointplot(x='mean_rating', y='number_of_ratings', data=agg_ratings_GT100)"
      ],
      "metadata": {
        "id": "LyNqkNB9QPRd"
      },
      "execution_count": null,
      "outputs": []
    },
    {
      "cell_type": "code",
      "source": [
        "# Merge data\n",
        "df_GT100 = pd.merge(df, agg_ratings_GT100[['title']], on='title', how='inner')\n",
        "df_GT100.info()"
      ],
      "metadata": {
        "id": "werAk0koQQyO"
      },
      "execution_count": null,
      "outputs": []
    },
    {
      "cell_type": "code",
      "source": [
        "# Number of users\n",
        "print('The ratings dataset has', df_GT100['userId'].nunique(), 'unique users')\n",
        "\n",
        "# Number of movies\n",
        "print('The ratings dataset has', df_GT100['movieId'].nunique(), 'unique movies')\n",
        "\n",
        "# Number of ratings\n",
        "print('The ratings dataset has', df_GT100['rating'].nunique(), 'unique ratings')\n",
        "\n",
        "# List of unique ratings\n",
        "print('The unique ratings are', sorted(df_GT100['rating'].unique()))"
      ],
      "metadata": {
        "id": "VRjr1dkkQT1Y"
      },
      "execution_count": null,
      "outputs": []
    },
    {
      "cell_type": "code",
      "source": [
        "# Create user-item matrix\n",
        "matrix = df_GT100.pivot_table(index='userId', columns='title', values='rating')\n",
        "matrix.head()"
      ],
      "metadata": {
        "id": "MZ6ZrcuCQVyb"
      },
      "execution_count": null,
      "outputs": []
    },
    {
      "cell_type": "code",
      "source": [
        "# Normalize user-item matrix\n",
        "matrix_norm = matrix.subtract(matrix.mean(axis=1), axis = 'rows')\n",
        "matrix_norm.head()"
      ],
      "metadata": {
        "id": "R1UBxQ4LQXD3"
      },
      "execution_count": null,
      "outputs": []
    },
    {
      "cell_type": "code",
      "source": [
        "# User similarity matrix using Pearson correlation\n",
        "user_similarity = matrix_norm.T.corr()\n",
        "user_similarity.head()"
      ],
      "metadata": {
        "id": "rHLtMRwcQYir"
      },
      "execution_count": null,
      "outputs": []
    },
    {
      "cell_type": "code",
      "source": [
        "# User similarity matrix using cosine similarity\n",
        "user_similarity_cosine = cosine_similarity(matrix_norm.fillna(0))\n",
        "user_similarity_cosine"
      ],
      "metadata": {
        "id": "iE_f5DHNQfjk"
      },
      "execution_count": null,
      "outputs": []
    },
    {
      "cell_type": "code",
      "source": [
        "# Pick a user ID\n",
        "picked_userid = 1\n",
        "\n",
        "# Remove picked user ID from the candidate list\n",
        "user_similarity.drop(index=picked_userid, inplace=True)\n",
        "\n",
        "# Take a look at the data\n",
        "user_similarity.head()"
      ],
      "metadata": {
        "id": "AkRuuIMxQg3d"
      },
      "execution_count": null,
      "outputs": []
    },
    {
      "cell_type": "code",
      "source": [
        "# Number of similar users\n",
        "n = 10\n",
        "\n",
        "# User similarity threashold\n",
        "user_similarity_threshold = 0.3\n",
        "\n",
        "# Get top n similar users\n",
        "similar_users = user_similarity[user_similarity[picked_userid]>user_similarity_threshold][picked_userid].sort_values(ascending=False)[:n]\n",
        "\n",
        "# Print out top n similar users\n",
        "print(f'The similar users for user {picked_userid} are', similar_users)"
      ],
      "metadata": {
        "id": "GB5iSJ7kQiYd"
      },
      "execution_count": null,
      "outputs": []
    },
    {
      "cell_type": "code",
      "source": [
        "# Movies that the target user has watched\n",
        "picked_userid_watched = matrix_norm[matrix_norm.index == picked_userid].dropna(axis=1, how='all')\n",
        "picked_userid_watched"
      ],
      "metadata": {
        "id": "7tyYc9PNQkD6"
      },
      "execution_count": null,
      "outputs": []
    },
    {
      "cell_type": "code",
      "source": [
        "# Movies that similar users watched. Remove movies that none of the similar users have watched\n",
        "similar_user_movies = matrix_norm[matrix_norm.index.isin(similar_users.index)].dropna(axis=1, how='all')\n",
        "similar_user_movies"
      ],
      "metadata": {
        "id": "c4SWxoaLQlZk"
      },
      "execution_count": null,
      "outputs": []
    },
    {
      "cell_type": "code",
      "source": [
        "# Remove the watched movie from the movie list\n",
        "similar_user_movies.drop(picked_userid_watched.columns,axis=1, inplace=True, errors='ignore')\n",
        "\n",
        "# Take a look at the data\n",
        "similar_user_movies"
      ],
      "metadata": {
        "id": "qmbmNA0UQmv5"
      },
      "execution_count": null,
      "outputs": []
    },
    {
      "cell_type": "code",
      "source": [
        "# A dictionary to store item scores\n",
        "item_score = {}\n",
        "\n",
        "# Loop through items\n",
        "for i in similar_user_movies.columns:\n",
        "  # Get the ratings for movie i\n",
        "  movie_rating = similar_user_movies[i]\n",
        "  # Create a variable to store the score\n",
        "  total = 0\n",
        "  # Create a variable to store the number of scores\n",
        "  count = 0\n",
        "  # Loop through similar users\n",
        "  for u in similar_users.index:\n",
        "    # If the movie has rating\n",
        "    if pd.isna(movie_rating[u]) == False:\n",
        "      # Score is the sum of user similarity score multiply by the movie rating\n",
        "      score = similar_users[u] * movie_rating[u]\n",
        "      # Add the score to the total score for the movie so far\n",
        "      total += score\n",
        "      # Add 1 to the count\n",
        "      count +=1\n",
        "  # Get the average score for the item\n",
        "  item_score[i] = total / count\n",
        "\n",
        "# Convert dictionary to pandas dataframe\n",
        "item_score = pd.DataFrame(item_score.items(), columns=['movie', 'movie_score'])\n",
        "\n",
        "# Sort the movies by score\n",
        "ranked_item_score = item_score.sort_values(by='movie_score', ascending=False)\n",
        "\n",
        "# Select top m movies\n",
        "m = 10\n",
        "ranked_item_score.head(m)"
      ],
      "metadata": {
        "id": "VTehPbnjQoXX"
      },
      "execution_count": null,
      "outputs": []
    },
    {
      "cell_type": "code",
      "source": [
        "# Average rating for the picked user\n",
        "avg_rating = matrix[matrix.index == picked_userid].T.mean()[picked_userid]\n",
        "\n",
        "# Print the average movie rating for user 1\n",
        "print(f'The average movie rating for user {picked_userid} is {avg_rating:.2f}')"
      ],
      "metadata": {
        "id": "ljab_DkVQqfM"
      },
      "execution_count": null,
      "outputs": []
    },
    {
      "cell_type": "code",
      "source": [
        "# Calcuate the predicted rating\n",
        "ranked_item_score['predicted_rating'] = ranked_item_score['movie_score'] + avg_rating\n",
        "\n",
        "# Take a look at the data\n",
        "ranked_item_score.head(m)"
      ],
      "metadata": {
        "id": "a1CSB4XmQsNP"
      },
      "execution_count": null,
      "outputs": []
    },
    {
      "cell_type": "code",
      "source": [],
      "metadata": {
        "id": "Cr-BFbv4Q-iS"
      },
      "execution_count": null,
      "outputs": []
    }
  ]
}